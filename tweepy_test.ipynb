{
 "cells": [
  {
   "cell_type": "markdown",
   "metadata": {},
   "source": [
    "# Test `tweepy` functionality"
   ]
  },
  {
   "cell_type": "markdown",
   "metadata": {},
   "source": [
    "Steps:\n",
    "1. Create an app at https://developer.twitter.com/en/apps."
   ]
  },
  {
   "cell_type": "markdown",
   "metadata": {},
   "source": [
    "* What is your primary reason for using Twitter developer tools? --> Hobbyist: Exploring the API.\n",
    "* How will you use the Twitter API or Twitter data? --> I am interested in tracking changes in opinions and attitudes during the coronavirus pandemic to identify events or people who are more influential in driving changes. The code and analysis results will be freely shared on Github.\n",
    "* Please describe how you will analyze Twitter data including any analysis of Tweets or Twitter users. --> I plan to perform sentiment analysis on tweets from US users after specific events, e.g. new CDC recommendations, shelter-in-place orders, travel restriction announcements. \n",
    "* Please describe how and where Tweets and/or data about Twitter content will be displayed outside of Twitter. --> I will share analysis results on my Github page github.com/lucymli/tablecloth and on my blog at lucymli.com."
   ]
  },
  {
   "cell_type": "markdown",
   "metadata": {},
   "source": [
    "2. Wait for approval from Twitter.\n",
    "3. Go to the API Keys tab, and copy the Consumer Key and Consumer Secret Keys.\n",
    "4. Click 'Create my access token' and copy the Access Token and Access Token Secret.\n",
    "5. Create config file named 'tweepy.ini' that looks like this:"
   ]
  },
  {
   "cell_type": "markdown",
   "metadata": {},
   "source": [
    "[twitter]\\\n",
    "ConsumerKey = [Consumer Key]\\\n",
    "ConsumerSecret = [Consumer Secret Key]\\\n",
    "AccessToken = [Access Token]\\\n",
    "AccessTokenSecret = [Access Token Secret]"
   ]
  },
  {
   "cell_type": "markdown",
   "metadata": {},
   "source": [
    "### Set up Twitter authentication"
   ]
  },
  {
   "cell_type": "code",
   "execution_count": null,
   "metadata": {},
   "outputs": [],
   "source": [
    "import tweepy\n",
    "import configparser\n",
    "\n",
    "config = config.read('tweepy.ini')[\"twitter\"]\n",
    "\n",
    "auth = tweepy.OAuthHandler(config[\"ConsumerKey\"], config[\"ConsumerSecret\"])\n",
    "auth.set_access_token(config[\"AccessToken\"], config[\"AccessTokenSecret\"])\n",
    "\n",
    "api = tweepy.API(auth)"
   ]
  },
  {
   "cell_type": "markdown",
   "metadata": {},
   "source": [
    "### Get public tweets"
   ]
  },
  {
   "cell_type": "code",
   "execution_count": null,
   "metadata": {},
   "outputs": [],
   "source": [
    "public_tweets = api.home_timeline()\n",
    "for tweet in public_tweets:\n",
    "    print(tweet.text)"
   ]
  },
  {
   "cell_type": "markdown",
   "metadata": {},
   "source": [
    "### Get user information"
   ]
  },
  {
   "cell_type": "code",
   "execution_count": null,
   "metadata": {},
   "outputs": [],
   "source": [
    "user = api.get_user('twitter')"
   ]
  }
 ],
 "metadata": {
  "kernelspec": {
   "display_name": "Python 3",
   "language": "python",
   "name": "python3"
  },
  "language_info": {
   "codemirror_mode": {
    "name": "ipython",
    "version": 3
   },
   "file_extension": ".py",
   "mimetype": "text/x-python",
   "name": "python",
   "nbconvert_exporter": "python",
   "pygments_lexer": "ipython3",
   "version": "3.8.0"
  }
 },
 "nbformat": 4,
 "nbformat_minor": 2
}
