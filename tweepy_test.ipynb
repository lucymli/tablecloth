{
 "cells": [
  {
   "cell_type": "markdown",
   "metadata": {},
   "source": [
    "# Test `tweepy` functionality"
   ]
  },
  {
   "cell_type": "markdown",
   "metadata": {},
   "source": [
    "Steps:\n",
    "1. Create an app at https://developer.twitter.com/en/apps."
   ]
  },
  {
   "cell_type": "markdown",
   "metadata": {},
   "source": [
    "* What is your primary reason for using Twitter developer tools? --> Hobbyist: Exploring the API.\n",
    "* How will you use the Twitter API or Twitter data? --> I am interested in tracking changes in opinions and attitudes during the coronavirus pandemic to identify events or people who are more influential in driving changes. The code and analysis results will be freely shared on Github.\n",
    "* Please describe how you will analyze Twitter data including any analysis of Tweets or Twitter users. --> I plan to perform sentiment analysis on tweets from US users after specific events, e.g. new CDC recommendations, shelter-in-place orders, travel restriction announcements. \n",
    "* Please describe how and where Tweets and/or data about Twitter content will be displayed outside of Twitter. --> I will share analysis results on my Github page github.com/lucymli/tablecloth and on my blog at lucymli.com."
   ]
  },
  {
   "cell_type": "markdown",
   "metadata": {},
   "source": [
    "2. Wait for approval from Twitter."
   ]
  },
  {
   "cell_type": "markdown",
   "metadata": {},
   "source": [
    "Twitter requested additional information.\n",
    "\n",
    "The core use case, intent, or business purpose for your use of the Twitter APIs.\n",
    "* Use of Twitter APIs would be purely for research purposes.  I am interested in tracking changes in opinions and attitudes during the coronavirus pandemic to identify events or people who are more influential in driving changes.  The code and analysis results will be shared on Github.\n",
    "If you intend to analyze Tweets, Twitter users, or their content, share details about the analyses you plan to conduct, and the methods or techniques.\n",
    "* I will produce time series of tweets related to COVID-19 for different locations around the world, train deep learning models to infer sentiment (towards pandemic restrictions), and identify correlations between changes in public health orders/incidence/COVID-19 media reports and changes in sentiment.\n",
    "If your use involves Tweeting, Retweeting, or liking content, share how you’ll interact with Twitter accounts, or their content.\n",
    "* I will not tweet, retweet, or like content.\n",
    "If you’ll display Twitter content off of Twitter, explain how, and where, Tweets and Twitter content will be displayed with your product or service, including whether Tweets and Twitter content will be displayed at row level, or aggregated.\n",
    "* No individual tweets will be displayed, and no user names will be revealed.  Only aggregated data will be displayed."
   ]
  },
  {
   "cell_type": "markdown",
   "metadata": {},
   "source": [
    "3. Go to the API Keys tab, and copy the Consumer Key and Consumer Secret Keys.\n",
    "> Name your app: twitter_covid_tablecloth"
   ]
  },
  {
   "cell_type": "markdown",
   "metadata": {},
   "source": [
    "4. Click 'Create my access token' and copy the Access Token and Access Token Secret.\n",
    "5. Create config file named 'tweepy.ini' that looks like this:"
   ]
  },
  {
   "cell_type": "markdown",
   "metadata": {},
   "source": [
    "[twitter]\\\n",
    "ConsumerKey = [Consumer Key]\\\n",
    "ConsumerSecret = [Consumer Secret Key]\\\n",
    "AccessToken = [Access Token]\\\n",
    "AccessTokenSecret = [Access Token Secret]"
   ]
  },
  {
   "cell_type": "markdown",
   "metadata": {},
   "source": [
    "### Set up Twitter authentication"
   ]
  },
  {
   "cell_type": "code",
   "execution_count": 115,
   "metadata": {},
   "outputs": [],
   "source": [
    "import tweepy\n",
    "import configparser\n",
    "import zipcodes\n",
    "import pandas as pd\n",
    "import censusdata\n",
    "import us\n",
    "\n",
    "config = configparser.ConfigParser()\n",
    "config.read('tweepy.ini')\n",
    "\n",
    "\n",
    "auth = tweepy.OAuthHandler(config[\"twitter\"][\"ConsumerKey\"], config[\"twitter\"][\"ConsumerSecret\"])\n",
    "auth.set_access_token(config[\"twitter\"][\"AccessToken\"], config[\"twitter\"][\"AccessTokenSecret\"])\n",
    "\n",
    "api = tweepy.API(auth)"
   ]
  },
  {
   "cell_type": "markdown",
   "metadata": {},
   "source": [
    "### Get public tweets"
   ]
  },
  {
   "cell_type": "code",
   "execution_count": 30,
   "metadata": {},
   "outputs": [
    {
     "name": "stdout",
     "output_type": "stream",
     "text": [
      "wait, \"go away for a year and a half until it disappears\"? so it's not going anywhere for a year and a half? #Debates2020\n",
      "It’s the only thing Trump can do https://t.co/oPyLfY02yt\n",
      "I’ve been waiting for @Sarah_Brayne’s book! Can’t wait to read it. https://t.co/I994opdZqH\n",
      "yes masks, yes [easy, affordable, and broad] access to rapid testing! #Debates2020\n",
      "RT @CharlesPPierce: Goggles??\n",
      "RT @ddale8: Trump's first sentence is false. 2.2 million people were not \"expected to die.\"\n",
      "\n",
      "That was an estimate for *what would happen if…\n",
      "if there's a cure, why do we need ventilators? #Debates2020\n",
      "RT @DrTsion: Confirming Amy Coney Barrett will end abortion care as we know it | Opinion https://t.co/ZerUWfSgYQ #SRHR by Dr. Jenn Conti @D…\n",
      "5 days to go until the leading data science virtual training conference! Don’t miss your chance to learn from the b… https://t.co/cr86IBtmCx\n",
      "Live poultry feeding and trading network and the transmission of avian influenza A(H5N6) virus in a large city in C… https://t.co/IC7C7FbpCh\n",
      "Josephus. https://t.co/U51b4B03ly\n",
      "trust destructive activities vs trust generative activities is framing that's gonna live rent free in my head forev… https://t.co/uWZXOfAwtn\n",
      "RT @pknoepfler: ICYMI: a nice resource about potential stem cell and other cell therapy approaches to #COVID19 including handy infographic…\n",
      "RT @CT_Bergstrom: There's a paper out in PNAS that features a number of evolutionary psychology speculations about SARS-CoV-2. Some of my f…\n",
      "RT @molly_knight: If watching the debate is going to upset you follow this simple trick: \n",
      "\n",
      "Don’t watch it.\n",
      "Every company is quickly becoming a #tech company, which makes the opportunities in the field almost limitless.  Do… https://t.co/qJBClEIQK8\n",
      ".@felixhol does this look like something? #GIS #geospatial @UCSFScience @WITIatUC @predictech @UCDavisTechNews https://t.co/3VmgbYKCRn\n",
      "A shame, but given investment levels over the past 20 years, no surprise. @michiganstateu to eliminate men's, women… https://t.co/WTTClnKGRh\n",
      "@vidaahyong Go squids !!! 🦑\n"
     ]
    }
   ],
   "source": [
    "public_tweets = api.home_timeline()\n",
    "for tweet in public_tweets:\n",
    "    print(tweet.text)"
   ]
  },
  {
   "cell_type": "markdown",
   "metadata": {},
   "source": [
    "## Search keywords"
   ]
  },
  {
   "cell_type": "code",
   "execution_count": 43,
   "metadata": {},
   "outputs": [],
   "source": [
    "searchQuery = 'COVID or COVID-19 or coronavirus' # Keyword\n",
    "\n",
    "new_tweets = api.search(q=searchQuery, count=100, \n",
    "                        result_type = \"recent\",\n",
    "                        lang = \"en\") "
   ]
  },
  {
   "cell_type": "code",
   "execution_count": 40,
   "metadata": {},
   "outputs": [
    {
     "data": {
      "text/plain": [
       "'RT @Healthline: Nearly a quarter of hospitalized coronavirus patients have experienced long-term heart damage, including myocardial injury,…'"
      ]
     },
     "execution_count": 40,
     "metadata": {},
     "output_type": "execute_result"
    }
   ],
   "source": [
    "new_tweets[0]._json[\"text\"]"
   ]
  },
  {
   "cell_type": "markdown",
   "metadata": {},
   "source": [
    "## Search by geography"
   ]
  },
  {
   "cell_type": "code",
   "execution_count": 78,
   "metadata": {},
   "outputs": [],
   "source": [
    "county_census_geo = censusdata.censusgeo([('county', '*')])"
   ]
  },
  {
   "cell_type": "code",
   "execution_count": 91,
   "metadata": {},
   "outputs": [],
   "source": [
    "county_census_names = censusdata.geographies(county_census_geo, 'acs1', 2018).keys()"
   ]
  },
  {
   "cell_type": "code",
   "execution_count": 119,
   "metadata": {},
   "outputs": [],
   "source": [
    "# Refer to https://www.fgdl.org/metadata/metadata_archive/fgdl_html/cenacs_dec11.htm\n",
    "# for variables e.g. B01003_001E is total population size\n",
    "county_census = censusdata.download('acs1', 2018, county_census_geo, ['B01003_001E']).rename(columns={\"B01003_001E\":\"total_pop_size\"}).assign(name=county_census_names)\n",
    "county_census[\"county\"] = county_census[\"name\"].apply(lambda x: x.split(\",\")[0])\n",
    "county_census[\"state_name\"] = county_census[\"name\"].apply(lambda x: x.split(\",\")[1])\n",
    "county_census[\"state\"] = county_census[\"state_name\"].apply(lambda x: us.states.lookup(x).abbr)"
   ]
  },
  {
   "cell_type": "code",
   "execution_count": 64,
   "metadata": {},
   "outputs": [],
   "source": [
    "zips = pd.DataFrame(zipcodes.list_all()).astype({\"lat\":float, \"long\"})"
   ]
  },
  {
   "cell_type": "code",
   "execution_count": 67,
   "metadata": {},
   "outputs": [],
   "source": [
    "county_zips = zips[zips[\"county\"]!=\"\"].groupby([\"county\", \"state\"])[[\"lat\", \"long\"]].median().reset_index()"
   ]
  },
  {
   "cell_type": "code",
   "execution_count": 121,
   "metadata": {},
   "outputs": [],
   "source": [
    "county_info = pd.merge(county_zips, county_census)"
   ]
  },
  {
   "cell_type": "markdown",
   "metadata": {},
   "source": [
    "Sort counties by total_pop_size in 2018"
   ]
  },
  {
   "cell_type": "code",
   "execution_count": 124,
   "metadata": {},
   "outputs": [
    {
     "data": {
      "text/html": [
       "<div>\n",
       "<style scoped>\n",
       "    .dataframe tbody tr th:only-of-type {\n",
       "        vertical-align: middle;\n",
       "    }\n",
       "\n",
       "    .dataframe tbody tr th {\n",
       "        vertical-align: top;\n",
       "    }\n",
       "\n",
       "    .dataframe thead th {\n",
       "        text-align: right;\n",
       "    }\n",
       "</style>\n",
       "<table border=\"1\" class=\"dataframe\">\n",
       "  <thead>\n",
       "    <tr style=\"text-align: right;\">\n",
       "      <th></th>\n",
       "      <th>county</th>\n",
       "      <th>state</th>\n",
       "      <th>lat</th>\n",
       "      <th>long</th>\n",
       "      <th>total_pop_size</th>\n",
       "      <th>name</th>\n",
       "      <th>state_name</th>\n",
       "    </tr>\n",
       "  </thead>\n",
       "  <tbody>\n",
       "    <tr>\n",
       "      <th>200</th>\n",
       "      <td>Davis County</td>\n",
       "      <td>UT</td>\n",
       "      <td>41.03875</td>\n",
       "      <td>-111.93980</td>\n",
       "      <td>10105518</td>\n",
       "      <td>Davis County, Utah</td>\n",
       "      <td>Utah</td>\n",
       "    </tr>\n",
       "    <tr>\n",
       "      <th>403</th>\n",
       "      <td>Lake County</td>\n",
       "      <td>OH</td>\n",
       "      <td>41.66620</td>\n",
       "      <td>-81.33990</td>\n",
       "      <td>5180493</td>\n",
       "      <td>Lake County, Ohio</td>\n",
       "      <td>Ohio</td>\n",
       "    </tr>\n",
       "    <tr>\n",
       "      <th>168</th>\n",
       "      <td>Collier County</td>\n",
       "      <td>FL</td>\n",
       "      <td>26.14180</td>\n",
       "      <td>-81.71680</td>\n",
       "      <td>4698619</td>\n",
       "      <td>Collier County, Florida</td>\n",
       "      <td>Florida</td>\n",
       "    </tr>\n",
       "    <tr>\n",
       "      <th>42</th>\n",
       "      <td>Bastrop County</td>\n",
       "      <td>TX</td>\n",
       "      <td>30.11685</td>\n",
       "      <td>-97.33600</td>\n",
       "      <td>4410824</td>\n",
       "      <td>Bastrop County, Texas</td>\n",
       "      <td>Texas</td>\n",
       "    </tr>\n",
       "    <tr>\n",
       "      <th>198</th>\n",
       "      <td>Davidson County</td>\n",
       "      <td>TN</td>\n",
       "      <td>36.16560</td>\n",
       "      <td>-86.78195</td>\n",
       "      <td>3343364</td>\n",
       "      <td>Davidson County, Tennessee</td>\n",
       "      <td>Tennessee</td>\n",
       "    </tr>\n",
       "    <tr>\n",
       "      <th>...</th>\n",
       "      <td>...</td>\n",
       "      <td>...</td>\n",
       "      <td>...</td>\n",
       "      <td>...</td>\n",
       "      <td>...</td>\n",
       "      <td>...</td>\n",
       "      <td>...</td>\n",
       "    </tr>\n",
       "    <tr>\n",
       "      <th>389</th>\n",
       "      <td>Klamath County</td>\n",
       "      <td>OR</td>\n",
       "      <td>42.39300</td>\n",
       "      <td>-121.70990</td>\n",
       "      <td>64227</td>\n",
       "      <td>Klamath County, Oregon</td>\n",
       "      <td>Oregon</td>\n",
       "    </tr>\n",
       "    <tr>\n",
       "      <th>737</th>\n",
       "      <td>Toa Alta Municipio</td>\n",
       "      <td>PR</td>\n",
       "      <td>18.35780</td>\n",
       "      <td>-66.25810</td>\n",
       "      <td>63746</td>\n",
       "      <td>Toa Alta Municipio, Puerto Rico</td>\n",
       "      <td>Puerto Rico</td>\n",
       "    </tr>\n",
       "    <tr>\n",
       "      <th>357</th>\n",
       "      <td>Jefferson County</td>\n",
       "      <td>MO</td>\n",
       "      <td>38.28080</td>\n",
       "      <td>-90.46515</td>\n",
       "      <td>63711</td>\n",
       "      <td>Jefferson County, Missouri</td>\n",
       "      <td>Missouri</td>\n",
       "    </tr>\n",
       "    <tr>\n",
       "      <th>602</th>\n",
       "      <td>Providence County</td>\n",
       "      <td>RI</td>\n",
       "      <td>41.84890</td>\n",
       "      <td>-71.46180</td>\n",
       "      <td>63227</td>\n",
       "      <td>Providence County, Rhode Island</td>\n",
       "      <td>Rhode Island</td>\n",
       "    </tr>\n",
       "    <tr>\n",
       "      <th>590</th>\n",
       "      <td>Polk County</td>\n",
       "      <td>IA</td>\n",
       "      <td>41.60060</td>\n",
       "      <td>-93.60870</td>\n",
       "      <td>62607</td>\n",
       "      <td>Polk County, Iowa</td>\n",
       "      <td>Iowa</td>\n",
       "    </tr>\n",
       "  </tbody>\n",
       "</table>\n",
       "<p>835 rows × 7 columns</p>\n",
       "</div>"
      ],
      "text/plain": [
       "                 county state       lat       long  total_pop_size  \\\n",
       "200        Davis County    UT  41.03875 -111.93980        10105518   \n",
       "403         Lake County    OH  41.66620  -81.33990         5180493   \n",
       "168      Collier County    FL  26.14180  -81.71680         4698619   \n",
       "42       Bastrop County    TX  30.11685  -97.33600         4410824   \n",
       "198     Davidson County    TN  36.16560  -86.78195         3343364   \n",
       "..                  ...   ...       ...        ...             ...   \n",
       "389      Klamath County    OR  42.39300 -121.70990           64227   \n",
       "737  Toa Alta Municipio    PR  18.35780  -66.25810           63746   \n",
       "357    Jefferson County    MO  38.28080  -90.46515           63711   \n",
       "602   Providence County    RI  41.84890  -71.46180           63227   \n",
       "590         Polk County    IA  41.60060  -93.60870           62607   \n",
       "\n",
       "                                name     state_name  \n",
       "200               Davis County, Utah           Utah  \n",
       "403                Lake County, Ohio           Ohio  \n",
       "168          Collier County, Florida        Florida  \n",
       "42             Bastrop County, Texas          Texas  \n",
       "198       Davidson County, Tennessee      Tennessee  \n",
       "..                               ...            ...  \n",
       "389           Klamath County, Oregon         Oregon  \n",
       "737  Toa Alta Municipio, Puerto Rico    Puerto Rico  \n",
       "357       Jefferson County, Missouri       Missouri  \n",
       "602  Providence County, Rhode Island   Rhode Island  \n",
       "590                Polk County, Iowa           Iowa  \n",
       "\n",
       "[835 rows x 7 columns]"
      ]
     },
     "execution_count": 124,
     "metadata": {},
     "output_type": "execute_result"
    }
   ],
   "source": [
    "county_info.sort_values(by=\"total_pop_size\", ascending=False)"
   ]
  },
  {
   "cell_type": "code",
   "execution_count": 125,
   "metadata": {},
   "outputs": [],
   "source": [
    "new_tweets = county_info.sort_values(by=\"total_pop_size\", ascending=False).head(n=100).\\\n",
    "apply(lambda x: f'{x[\"lat\"]},{x[\"long\"]},10mi', axis=1).\\\n",
    "apply(lambda x: api.search(q=searchQuery, geocode=x, result_type = \"recent\", lang = \"en\"))\n"
   ]
  },
  {
   "cell_type": "markdown",
   "metadata": {},
   "source": [
    "Recent tweets from the 100 most populous counties in the US"
   ]
  },
  {
   "cell_type": "code",
   "execution_count": 129,
   "metadata": {},
   "outputs": [
    {
     "data": {
      "text/plain": [
       "'RT @LaytonFYI: With high levels of COVID-19, face coverings are required &amp; social gatherings are limited to 10 people or less. Keep 6 ft. o…'"
      ]
     },
     "execution_count": 129,
     "metadata": {},
     "output_type": "execute_result"
    }
   ],
   "source": [
    "new_tweets.iloc[0][0]._json[\"text\"]"
   ]
  },
  {
   "cell_type": "markdown",
   "metadata": {},
   "source": [
    "## Get user information"
   ]
  },
  {
   "cell_type": "code",
   "execution_count": 16,
   "metadata": {},
   "outputs": [],
   "source": [
    "user = api.get_user('twitter')"
   ]
  },
  {
   "cell_type": "code",
   "execution_count": null,
   "metadata": {},
   "outputs": [],
   "source": []
  }
 ],
 "metadata": {
  "kernelspec": {
   "display_name": "Python 3",
   "language": "python",
   "name": "python3"
  },
  "language_info": {
   "codemirror_mode": {
    "name": "ipython",
    "version": 3
   },
   "file_extension": ".py",
   "mimetype": "text/x-python",
   "name": "python",
   "nbconvert_exporter": "python",
   "pygments_lexer": "ipython3",
   "version": "3.8.0"
  }
 },
 "nbformat": 4,
 "nbformat_minor": 4
}
